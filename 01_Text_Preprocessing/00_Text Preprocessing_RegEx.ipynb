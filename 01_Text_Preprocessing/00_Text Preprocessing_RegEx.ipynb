{
 "cells": [
  {
   "cell_type": "markdown",
   "id": "992e1138-1a54-4a79-88ea-67e06c85e401",
   "metadata": {},
   "source": [
    "<h1 align=\"center\">Machine Learning for NLP</h1>\n",
    "    <h2 align=\"center\">Text Preprocessing with RegEx</h2>\n",
    "    <h3 align=\"center\">Zahra Amini</h3>\n",
    "<div style=\"width: 100%; text-align: center;\">\n",
    "    <table>\n",
    "        <tr>\n",
    "            <td>\n",
    "                <a class=\"link\" href=\"https://t.me/Zahraamini_ai\">Telegram</a><br>\n",
    "                <a class=\"link\" href=\"https://www.linkedin.com/in/zahraamini-ai/\">LinkedIn</a><br>\n",
    "                <a class=\"link\" href=\"https://www.youtube.com/@AcademyHobot\">YouTube</a><br>\n",
    "            </td>\n",
    "            <td>\n",
    "                <a class=\"link\" href=\"https://github.com/aminizahra\">GitHub</a><br>\n",
    "                <a class=\"link\" href=\"https://www.kaggle.com/aminizahra\">Kaggle</a><br>\n",
    "                <a class=\"link\" href=\"https://www.instagram.com/zahraamini_ai/\">Instagram</a><br>\n",
    "            </td>\n",
    "        </tr>\n",
    "    </table>\n",
    "</div>"
   ]
  },
  {
   "cell_type": "markdown",
   "id": "a2c473ba-618f-40ae-baed-cbc6e76d698e",
   "metadata": {},
   "source": [
    "# 1. Basic Commands"
   ]
  },
  {
   "cell_type": "markdown",
   "id": "7a68f927-1676-4c11-8c4a-9ccb0632fd74",
   "metadata": {},
   "source": [
    "## 1.1. Importing the library"
   ]
  },
  {
   "cell_type": "code",
   "execution_count": 4,
   "id": "32f7f31d-ad3b-4b8b-9551-3a7789905957",
   "metadata": {},
   "outputs": [],
   "source": [
    "import re"
   ]
  },
  {
   "cell_type": "markdown",
   "id": "23309765-83b2-4758-ad09-c3c5749132ff",
   "metadata": {},
   "source": [
    "### 1.2. `re.search()`: Find the first occurrence of a pattern in text"
   ]
  },
  {
   "cell_type": "markdown",
   "id": "11ed078c-a015-410d-811e-13d329e21caa",
   "metadata": {},
   "source": [
    "#### 💠Finding the first number in a text"
   ]
  },
  {
   "cell_type": "code",
   "execution_count": 7,
   "id": "f58fb7ff-3dad-4da9-ad0b-5233bfd4e940",
   "metadata": {},
   "outputs": [
    {
     "name": "stdout",
     "output_type": "stream",
     "text": [
      "15\n",
      "Found number: 15\n"
     ]
    }
   ],
   "source": [
    "# Text where we want to find the first number\n",
    "text = \"There are 15 apples\"\n",
    "\n",
    "# to find the first number pattern\n",
    "result = re.search(r\"\\d+\", text)\n",
    "\n",
    "print(result.group())\n",
    "\n",
    "# Displaying the result if found, otherwise showing 'No match'\n",
    "if result:\n",
    "    print(\"Found number:\", result.group())  # Output: Found number: 15\n",
    "else:\n",
    "    print(\"No match found\")"
   ]
  },
  {
   "cell_type": "markdown",
   "id": "019f7f6e-340e-4c2f-aa1b-2b2ac355e4d7",
   "metadata": {},
   "source": [
    "<div style=\"background-color: #dafbe1; border-left: 5px solid #34c759; padding: 10px;\">\r\n",
    "The pattern <code>r\"\\d+\"</code> is used to find one or more consecutive digits. Here><br>\r\n",
    "<code>\\d</code> represents any digit (0-9).<br>\r\n",
    "<code>+</code> indicates that there must be at least one or more occurrences of digits for a match.<br><br>\r\n",
    "So, this pattern will match any sequence of one or more digits in the text, like \"123,\" \"42,\" or \"7.\"\r\n",
    "</div>\r\n"
   ]
  },
  {
   "cell_type": "markdown",
   "id": "315b5d97-5658-455e-b4c3-38755b7e8e15",
   "metadata": {},
   "source": [
    "#### 💠Finding a word with a capital letter at the beginning"
   ]
  },
  {
   "cell_type": "code",
   "execution_count": 10,
   "id": "c91bc5dc-ed24-41a2-b1b8-a2233a9d8737",
   "metadata": {},
   "outputs": [
    {
     "name": "stdout",
     "output_type": "stream",
     "text": [
      "Found word: Learning\n"
     ]
    }
   ],
   "source": [
    "# Text to find the first capitalized word\n",
    "text = \"Learning regex is fun\"\n",
    "\n",
    "# Using re.search() to find the first word that starts with an uppercase letter\n",
    "result = re.search(r\"[A-Z]\\w+\", text)\n",
    "\n",
    "# Displaying the result if found\n",
    "if result:\n",
    "    print(\"Found word:\", result.group())  # Output: Found word: Learning"
   ]
  },
  {
   "cell_type": "markdown",
   "id": "cb2b5046-6d28-44db-af93-62507137253b",
   "metadata": {},
   "source": [
    "### 1.3. `re.match()`: Check if a pattern matches the beginning of the text"
   ]
  },
  {
   "cell_type": "markdown",
   "id": "84b08c1c-5b5a-4a7c-b5e8-06e37cea557e",
   "metadata": {},
   "source": [
    "#### 💠Checking if a sentence starts with a specific word"
   ]
  },
  {
   "cell_type": "code",
   "execution_count": 13,
   "id": "28ede721-3eb5-4813-ad81-7636feba881b",
   "metadata": {},
   "outputs": [
    {
     "name": "stdout",
     "output_type": "stream",
     "text": [
      "Matched text: Hello\n"
     ]
    }
   ],
   "source": [
    "# Text to check if it starts with \"Hello\"\n",
    "text = \"Hello world\"\n",
    "\n",
    "# Using re.match() to check the beginning of the text\n",
    "result = re.match(r\"Hello\", text)\n",
    "\n",
    "print(\"Matched text:\", result.group())  # Output: Matched text: Hello"
   ]
  },
  {
   "cell_type": "markdown",
   "id": "fa8760ad-d3d5-495a-be8a-e501951aadad",
   "metadata": {},
   "source": [
    "#### 💠Checking if a text starts with a digit"
   ]
  },
  {
   "cell_type": "code",
   "execution_count": 15,
   "id": "7a4c8214-568a-49b7-a2e4-eff19285ec58",
   "metadata": {},
   "outputs": [
    {
     "name": "stdout",
     "output_type": "stream",
     "text": [
      "Matched number: 12345\n"
     ]
    }
   ],
   "source": [
    "# Text to check if it starts with a digit\n",
    "text = \"12345 is my code\"\n",
    "\n",
    "# Using re.match() to check if the text starts with one or more digits\n",
    "result = re.match(r\"\\d+\", text)\n",
    "\n",
    "# Displaying result if matched\n",
    "if result:\n",
    "    print(\"Matched number:\", result.group())  # Output: Matched number: 12345\n",
    "else:\n",
    "    print(\"No match found\")"
   ]
  },
  {
   "cell_type": "markdown",
   "id": "9b3d43d0-d5fe-4a1d-b4d6-a16f7be0cdeb",
   "metadata": {},
   "source": [
    "### 1.4. `re.findall()`: Find all occurrences of a pattern in text"
   ]
  },
  {
   "cell_type": "markdown",
   "id": "779e590e-eaf8-46bc-b4e3-aaf393fecf3f",
   "metadata": {},
   "source": [
    "#### 💠Finding all numbers in a sentence"
   ]
  },
  {
   "cell_type": "code",
   "execution_count": 18,
   "id": "45090376-8e0d-4e69-b267-7427f2b2b374",
   "metadata": {},
   "outputs": [
    {
     "name": "stdout",
     "output_type": "stream",
     "text": [
      "All numbers found: ['2', '3', '4']\n"
     ]
    }
   ],
   "source": [
    "# Text to find all numbers in\n",
    "text = \"I have 2 cats, 3 dogs, and 4 fishes\"\n",
    "\n",
    "# Using re.findall() to find all numbers\n",
    "result = re.findall(r\"\\d+\", text)\n",
    "\n",
    "# Displaying the list of found numbers\n",
    "print(\"All numbers found:\", result)  # Output: ['2', '3', '4']\n"
   ]
  },
  {
   "cell_type": "markdown",
   "id": "dc8a246b-68e9-4c1b-9868-9b6533533eb2",
   "metadata": {},
   "source": [
    "#### 💠Finding all capitalized words"
   ]
  },
  {
   "cell_type": "code",
   "execution_count": 20,
   "id": "95fd27b7-80c2-4f9a-a918-bf0f14d6ff0f",
   "metadata": {},
   "outputs": [
    {
     "name": "stdout",
     "output_type": "stream",
     "text": [
      "All capitalized words: ['Python', 'Regex', 'Cool', 'Fun']\n"
     ]
    }
   ],
   "source": [
    "# Text to find all capitalized words\n",
    "text = \"Python Regex is Cool and Fun\"\n",
    "\n",
    "# Using re.findall() to find all words that start with uppercase letters\n",
    "result = re.findall(r\"[A-Z]\\w+\", text)\n",
    "\n",
    "# Displaying the list of found words\n",
    "print(\"All capitalized words:\", result)  # Output: ['Python', 'Regex', 'Cool', 'Fun']\n"
   ]
  },
  {
   "cell_type": "markdown",
   "id": "97c13deb-da90-4572-acff-6f93b46012ae",
   "metadata": {},
   "source": [
    "### 1.5. `re.split()`: Split text based on a specified pattern"
   ]
  },
  {
   "cell_type": "markdown",
   "id": "9286d9f5-8bbf-47a8-8fc0-19319bb6e5eb",
   "metadata": {},
   "source": [
    "#### 💠Splitting text by spaces"
   ]
  },
  {
   "cell_type": "code",
   "execution_count": 23,
   "id": "a5f87bad-79de-4b83-b904-f32e59a75183",
   "metadata": {},
   "outputs": [
    {
     "name": "stdout",
     "output_type": "stream",
     "text": [
      "Text split by spaces: ['Split', 'this', 'text', 'by', 'spaces']\n"
     ]
    }
   ],
   "source": [
    "# Text to split by spaces\n",
    "text = \"Split this text by spaces\"\n",
    "\n",
    "# Using re.split() to divide text by spaces\n",
    "result = re.split(r\"\\s+\", text)\n",
    "\n",
    "# Displaying the list of words after splitting\n",
    "print(\"Text split by spaces:\", result)  # Output: ['Split', 'this', 'text', 'by', 'spaces']\n"
   ]
  },
  {
   "cell_type": "markdown",
   "id": "eee6d9dd-efdc-432d-a580-188eb6d24a1e",
   "metadata": {},
   "source": [
    "#### 💠Splitting text based on punctuation"
   ]
  },
  {
   "cell_type": "code",
   "execution_count": 25,
   "id": "7139a681-72b9-4c94-8a00-b50371799432",
   "metadata": {},
   "outputs": [
    {
     "name": "stdout",
     "output_type": "stream",
     "text": [
      "Text split by punctuation: ['apple', ' orange', ' banana', ' grape']\n"
     ]
    }
   ],
   "source": [
    "# Text to split by punctuation\n",
    "text = \"apple, orange; banana: grape\"\n",
    "\n",
    "# Using re.split() to divide text by various punctuation marks\n",
    "result = re.split(r\"[,;:]\", text)\n",
    "\n",
    "# Displaying the list of words after splitting\n",
    "print(\"Text split by punctuation:\", result)  # Output: ['apple', 'orange', 'banana', 'grape']\n"
   ]
  },
  {
   "cell_type": "markdown",
   "id": "12c03e0b-8882-42a5-b668-06ba0779474d",
   "metadata": {},
   "source": [
    "## 2. Working with basic patterns and special characters"
   ]
  },
  {
   "cell_type": "markdown",
   "id": "a7fe112a-e6f6-42da-9198-50b6c88fee73",
   "metadata": {},
   "source": [
    "### 2.1. `\\d` and `\\D`: Match digits and non-digits"
   ]
  },
  {
   "cell_type": "markdown",
   "id": "b0ee15d9-e5f2-422b-8640-b4c62a4d7f8e",
   "metadata": {},
   "source": [
    "#### 💠Finding the first number in text"
   ]
  },
  {
   "cell_type": "code",
   "execution_count": 29,
   "id": "789d27ab-bf36-4ac8-a80d-5809d1217cd5",
   "metadata": {},
   "outputs": [
    {
     "name": "stdout",
     "output_type": "stream",
     "text": [
      "Found number: 30\n"
     ]
    }
   ],
   "source": [
    "# Text to find the first number\n",
    "text = \"My age is 30\"\n",
    "\n",
    "# Using re.search() to find the first number\n",
    "result = re.search(r\"\\d+\", text)\n",
    "\n",
    "print(\"Found number:\", result.group())"
   ]
  },
  {
   "cell_type": "markdown",
   "id": "9d0d74ba-130e-460a-beea-b139e91dc643",
   "metadata": {},
   "source": [
    "#### 💠Removing all digits from text"
   ]
  },
  {
   "cell_type": "code",
   "execution_count": 31,
   "id": "0bf13253-df1c-474a-9cb5-fb19fb374fcd",
   "metadata": {},
   "outputs": [
    {
     "name": "stdout",
     "output_type": "stream",
     "text": [
      "Text without digits: Phone: --\n"
     ]
    }
   ],
   "source": [
    "# Text from which to remove digits\n",
    "text = \"Phone: 123-456-7890\"\n",
    "\n",
    "# Using re.sub() to replace digits with an empty string\n",
    "result = re.sub(r\"\\d\", \"\", text)\n",
    "\n",
    "# Displaying cleaned text\n",
    "print(\"Text without digits:\", result)  # Output: Phone: ---"
   ]
  },
  {
   "cell_type": "markdown",
   "id": "000dfd26-1156-4795-a773-6720d2979f77",
   "metadata": {},
   "source": [
    "### 2.2. `\\w` and `\\W`: Match alphanumeric characters and non-alphanumeric characters"
   ]
  },
  {
   "cell_type": "markdown",
   "id": "14f6555d-1b3d-4ca0-819f-69248aca29df",
   "metadata": {},
   "source": [
    "#### 💠Finding the first word in text"
   ]
  },
  {
   "cell_type": "code",
   "execution_count": 34,
   "id": "9bb8c17d-75ec-40bb-943a-cfe74d4fadd1",
   "metadata": {},
   "outputs": [
    {
     "name": "stdout",
     "output_type": "stream",
     "text": [
      "First word: Python3\n"
     ]
    }
   ],
   "source": [
    "# Text to find the first word\n",
    "text = \"Python3 is great\"\n",
    "\n",
    "# Using re.search() to find the first word\n",
    "result = re.search(r\"\\w+\", text)\n",
    "\n",
    "print(\"First word:\", result.group())"
   ]
  },
  {
   "cell_type": "markdown",
   "id": "ad295dcc-cbce-4802-a016-c7ab7972fb75",
   "metadata": {},
   "source": [
    "#### 💠Removing non-word characters"
   ]
  },
  {
   "cell_type": "code",
   "execution_count": 36,
   "id": "7d4f4481-a1ad-4ab0-a4fd-1737b4c07b7f",
   "metadata": {},
   "outputs": [
    {
     "name": "stdout",
     "output_type": "stream",
     "text": [
      "Cleaned text: HelloWorld\n"
     ]
    }
   ],
   "source": [
    "# Text from which to remove non-word characters\n",
    "text = \"Hello, World!\"\n",
    "\n",
    "# Using re.sub() to remove non-word characters\n",
    "result = re.sub(r\"\\W\", \"\", text)\n",
    "\n",
    "# Displaying cleaned text\n",
    "print(\"Cleaned text:\", result)  # Output: HelloWorld"
   ]
  },
  {
   "cell_type": "markdown",
   "id": "0c6873d6-5dca-4289-a287-e520addd9ab6",
   "metadata": {},
   "source": [
    "<div style=\"background-color: #dafbe1; border-left: 5px solid #34c759; padding: 10px;\">\r\n",
    "<code>\\w</code>: Matches word characters, including letters, digits, and the underscore (_).<br><br>\r\n",
    "<code>\\W</code>: Matches non-word characters, such as punctuation marks and spaces.\r\n",
    "</dv>\r\n"
   ]
  },
  {
   "cell_type": "code",
   "execution_count": null,
   "id": "1ff9d84f-cbe5-4c7c-aa51-f3490a0241f7",
   "metadata": {},
   "outputs": [],
   "source": []
  },
  {
   "cell_type": "markdown",
   "id": "592e97fe-7294-4667-bcda-d48bbd88707e",
   "metadata": {},
   "source": [
    "### 2.3. `\\s` and `\\S`: Match whitespace and non-whitespace characters"
   ]
  },
  {
   "cell_type": "markdown",
   "id": "0d753d74-3011-4959-9d4a-9c292a8492eb",
   "metadata": {},
   "source": [
    "#### 💠Replacing spaces with underscores"
   ]
  },
  {
   "cell_type": "code",
   "execution_count": 40,
   "id": "1c725e2e-6896-40ff-8f1c-c9f1d062aa2e",
   "metadata": {},
   "outputs": [
    {
     "name": "stdout",
     "output_type": "stream",
     "text": [
      "Text with underscores: Replace_spaces_with_underscores\n"
     ]
    }
   ],
   "source": [
    "# Text where spaces need to be replaced with underscores\n",
    "text = \"Replace spaces with underscores\"\n",
    "\n",
    "# Using re.sub() to replace spaces with underscores\n",
    "result = re.sub(r\"\\s\", \"_\", text)\n",
    "\n",
    "# Displaying modified text\n",
    "print(\"Text with underscores:\", result)  # Output: Replace_spaces_with_underscores\n"
   ]
  },
  {
   "cell_type": "markdown",
   "id": "ac09fbd2-a055-4962-a095-8dbb57d9ee44",
   "metadata": {},
   "source": [
    "#### 💠Removing all spaces from text"
   ]
  },
  {
   "cell_type": "code",
   "execution_count": 42,
   "id": "cf7a3636-6bfe-41ed-ad8b-a42b7cd424e6",
   "metadata": {},
   "outputs": [
    {
     "name": "stdout",
     "output_type": "stream",
     "text": [
      "Text without spaces: Removeallspaces\n"
     ]
    }
   ],
   "source": [
    "# Text from which to remove all spaces\n",
    "text = \"Remove all spaces\"\n",
    "\n",
    "# Using re.sub() to remove spaces\n",
    "result = re.sub(r\"\\s\", \"\", text)\n",
    "\n",
    "# Displaying cleaned text\n",
    "print(\"Text without spaces:\", result)  # Output: Removeallspaces\n"
   ]
  },
  {
   "cell_type": "markdown",
   "id": "5b34e351-b237-4eaa-a6bf-1439b1c0eef2",
   "metadata": {},
   "source": [
    "<div style=\"background-color: #dafbe1; border-left: 5px solid #34c759; padding: 10px;\">\n",
    "<code>\\s</code>: Matches whitespace characters, such as spaces, tabs, and newlines.<br><br>\n",
    "<code>\\S</code>: Matches any character that is not a whitespace character.\n",
    "</div>"
   ]
  },
  {
   "cell_type": "markdown",
   "id": "1bb9ddb3-d52a-47b8-96e2-5816181a3a54",
   "metadata": {},
   "source": [
    "## 3. Repeat characters and simple searches"
   ]
  },
  {
   "cell_type": "markdown",
   "id": "bda51bc2-ec6d-4750-9982-3a8fc9a636a7",
   "metadata": {},
   "source": [
    "### 3.1 `+`, `*`, `?`: Repeat characters"
   ]
  },
  {
   "cell_type": "markdown",
   "id": "d3b8f304-86b7-4f14-92a4-d9e6d3d0d690",
   "metadata": {},
   "source": [
    "<div style=\"background-color: #dafbe1; border-left: 5px solid #34c759; padding: 10px;\">\r\n",
    "<code>+</code>: Matches one or more occurrences.<br>\r\n",
    "<code>*</code>: Matches zero or more occurrences.<br>\r\n",
    "<code>?</code>: Matches zero or one occurrence.\r\n",
    "</iv>\r\n"
   ]
  },
  {
   "cell_type": "markdown",
   "id": "c76ba48b-864f-4372-84e9-93075b67fff0",
   "metadata": {},
   "source": [
    "#### 💠Finding decimal numbers in text"
   ]
  },
  {
   "cell_type": "code",
   "execution_count": 48,
   "id": "60582254-9aaa-4e94-95bb-9676d8fe8d62",
   "metadata": {},
   "outputs": [
    {
     "name": "stdout",
     "output_type": "stream",
     "text": [
      "Decimal numbers: ['2.0', '3.1']\n"
     ]
    }
   ],
   "source": [
    "# Text to find all decimal numbers in\n",
    "text = \"Version 2.0 and 3.1 are stable\"\n",
    "\n",
    "# Using re.findall() to find all decimal numbers\n",
    "result = re.findall(r\"\\d+\\.\\d+\", text)\n",
    "\n",
    "# Displaying all found decimal numbers\n",
    "print(\"Decimal numbers:\", result)  # Output: ['2.0', '3.1']\n"
   ]
  },
  {
   "cell_type": "markdown",
   "id": "aa123ff1-8d97-41b6-ac43-a2a09a7f01dd",
   "metadata": {},
   "source": [
    "#### 💠Matching possible email addresses"
   ]
  },
  {
   "cell_type": "code",
   "execution_count": 50,
   "id": "f3e66d1c-b489-4e01-96c3-f2210f5c6368",
   "metadata": {},
   "outputs": [
    {
     "name": "stdout",
     "output_type": "stream",
     "text": [
      "Email addresses: ['example@example.com', 'test@test.com']\n"
     ]
    }
   ],
   "source": [
    "# Text to find email addresses in\n",
    "text = \"Contact: example@example.com or test@test.com\"\n",
    "\n",
    "# Using re.findall() to find email addresses\n",
    "result = re.findall(r\"\\w+@\\w+\\.\\w+\", text)\n",
    "\n",
    "# Displaying all found email addresses\n",
    "print(\"Email addresses:\", result)  # Output: ['example@example.com', 'test@test.com']\n"
   ]
  },
  {
   "cell_type": "markdown",
   "id": "08a6c72b-987f-4a51-92a4-0039e82ef719",
   "metadata": {},
   "source": [
    "### 3.2. `{n}` and `{n, m}`: Specify exact or range of repetitions"
   ]
  },
  {
   "cell_type": "markdown",
   "id": "8e1c5e65-1216-4563-a513-bcc9982819d9",
   "metadata": {},
   "source": [
    "<div style=\"background-color: #dafbe1; border-left: 5px solid #34c759; padding: 10px;\">\r\n",
    "<code>{n}</code>: Matches exactly <code>n</code> occurrences.<br>\r\n",
    "<code>{n, m}</code>: Matches between <code>n</code> and <code>m</code> occurrences.\r\n",
    "</div>\r\n"
   ]
  },
  {
   "cell_type": "markdown",
   "id": "941a7943-5f5b-4140-83f7-6baa9f831ad1",
   "metadata": {},
   "source": [
    "#### 💠Finding a five-digit zip code"
   ]
  },
  {
   "cell_type": "code",
   "execution_count": 54,
   "id": "6b15d46a-c8cc-4f5c-ac1b-bbbe4f9d15b9",
   "metadata": {},
   "outputs": [
    {
     "name": "stdout",
     "output_type": "stream",
     "text": [
      "Zip code: 12345\n"
     ]
    }
   ],
   "source": [
    "# Text where we want to find a five-digit zip code\n",
    "text = \"My zip code is 12345\"\n",
    "\n",
    "# Using re.search() to find a five-digit number\n",
    "result = re.search(r\"\\b\\d{5}\\b\", text)\n",
    "\n",
    "print(\"Zip code:\", result.group())"
   ]
  },
  {
   "cell_type": "markdown",
   "id": "48ed0ea6-72b7-4f81-b3f2-43dc24b68d31",
   "metadata": {},
   "source": [
    "#### 💠Finding phone numbers in specific format"
   ]
  },
  {
   "cell_type": "code",
   "execution_count": 56,
   "id": "97130e45-e3c3-437d-9b2a-cd0a8bc11b5b",
   "metadata": {},
   "outputs": [
    {
     "name": "stdout",
     "output_type": "stream",
     "text": [
      "Phone numbers: ['123-456-7890', '987-654-3210']\n"
     ]
    }
   ],
   "source": [
    "# Text to find phone numbers in the format 123-456-7890\n",
    "text = \"Contact me at 123-456-7890 or 987-654-3210\"\n",
    "\n",
    "# Using re.findall() to find phone numbers\n",
    "result = re.findall(r\"\\d{3}-\\d{3}-\\d{4}\", text)\n",
    "\n",
    "# Displaying all found phone numbers\n",
    "print(\"Phone numbers:\", result)  # Output: ['123-456-7890', '987-654-3210']\n"
   ]
  },
  {
   "cell_type": "markdown",
   "id": "b575b1f6-4ec2-40d1-ac19-6a9dfcf3b014",
   "metadata": {},
   "source": [
    "## 4. Grouping and Subgroups"
   ]
  },
  {
   "cell_type": "markdown",
   "id": "e5aac203-5e2f-4ed0-8a2d-a92dd439d846",
   "metadata": {},
   "source": [
    "### 4.1. `()` and `(?: ...)`: Grouping with and without capturing"
   ]
  },
  {
   "cell_type": "markdown",
   "id": "2e6ca8a4-35c6-442f-b5be-83d60b30a2d9",
   "metadata": {},
   "source": [
    "<div style=\"background-color: #dafbe1; border-left: 5px solid #34c759; padding: 10px;\">\r\n",
    "<code>(...)</code>: Groups with match capturing, storing the matched result.<br>\r\n",
    "<code>(?:...)</code>: Groups without capturing, used when the result does not need to be stored.\r\n",
    "</div>\r\n"
   ]
  },
  {
   "cell_type": "markdown",
   "id": "c61e5e58-6c20-4d62-96a6-4ff0eea55d8f",
   "metadata": {},
   "source": [
    "#### 💠Grouping to capture area code in a phone number"
   ]
  },
  {
   "cell_type": "code",
   "execution_count": 61,
   "id": "3acaeb3c-0346-47ab-8095-1ffb0649c59e",
   "metadata": {},
   "outputs": [
    {
     "name": "stdout",
     "output_type": "stream",
     "text": [
      "Area code: 123\n"
     ]
    }
   ],
   "source": [
    "# Text with phone numbers\n",
    "text = \"My number is (123) 456-7890\"\n",
    "\n",
    "# Using parentheses to capture area code separately\n",
    "result = re.search(r\"\\((\\d{3})\\) \\d{3}-\\d{4}\", text)\n",
    "\n",
    "# Displaying the area code if matched\n",
    "if result:\n",
    "    print(\"Area code:\", result.group(1))  # Output: Area code: 123\n",
    "else:\n",
    "    print(\"No match found\")\n"
   ]
  },
  {
   "cell_type": "markdown",
   "id": "d4dd7c63-0928-4702-ad55-1e8af3712b0b",
   "metadata": {},
   "source": [
    "<div style=\"background-color: #dafbe1; border-left: 5px solid #34c759; padding: 10px;\">\r\n",
    "<code>\\((\\d{3})\\)</code>: Uses parentheses to capture the area code as a separate group.\r\n",
    "</div>\r\n"
   ]
  },
  {
   "cell_type": "markdown",
   "id": "d6dd7f78-5780-4713-b8f0-2b10aaac57eb",
   "metadata": {},
   "source": [
    "#### 💠Non-capturing group for pattern grouping without capturing"
   ]
  },
  {
   "cell_type": "code",
   "execution_count": 64,
   "id": "27d830b7-c39e-455c-8866-c20f222ea641",
   "metadata": {},
   "outputs": [
    {
     "name": "stdout",
     "output_type": "stream",
     "text": [
      "Animals found: ['cat', 'dog']\n"
     ]
    }
   ],
   "source": [
    "# Text where we want to find either \"cat\" or \"dog\"\n",
    "text = \"I have a cat and a dog.\"\n",
    "\n",
    "# Using a non-capturing group for alternatives\n",
    "result = re.findall(r\"(?:cat|dog)\", text)\n",
    "\n",
    "# Displaying the list of matched animals\n",
    "print(\"Animals found:\", result)  # Output: ['cat', 'dog']"
   ]
  },
  {
   "cell_type": "markdown",
   "id": "b4886b9b-0af0-4fcc-a604-7ee7c675ec58",
   "metadata": {},
   "source": [
    "### 4.2. Using `group()` and `groups()` to access grouped results"
   ]
  },
  {
   "cell_type": "markdown",
   "id": "460fe9c9-e010-4423-942f-cccb18f3fce8",
   "metadata": {},
   "source": [
    "<div style=\"background-color: #dafbe1; border-left: 5px solid #34c759; padding: 10px;\">\r\n",
    "<code>group()</code>: Accesses the entire match.<br>\r\n",
    "<code>groups()</code>: Accesses all captured groups as a tuple.\r\n",
    "</div>\r\n"
   ]
  },
  {
   "cell_type": "markdown",
   "id": "7ea5ceca-1db0-4ac1-ae1c-b753ce180953",
   "metadata": {},
   "source": [
    "#### 💠Extracting name and domain from an email address"
   ]
  },
  {
   "cell_type": "code",
   "execution_count": 68,
   "id": "a8281602-d0d3-4690-93d8-4c9c1b38d7fb",
   "metadata": {},
   "outputs": [
    {
     "name": "stdout",
     "output_type": "stream",
     "text": [
      "Username: user\n",
      "Domain: example.com\n"
     ]
    }
   ],
   "source": [
    "# Email to extract name and domain from\n",
    "email = \"user@example.com\"\n",
    "\n",
    "# Using groups to capture both parts of the email\n",
    "result = re.search(r\"(\\w+)@(\\w+\\.\\w+)\", email)\n",
    "\n",
    "print(\"Username:\", result.group(1))  # Output: Username: user\n",
    "print(\"Domain:\", result.group(2))    # Output: Domain: example.com"
   ]
  },
  {
   "cell_type": "markdown",
   "id": "8e062547-3781-4e2e-b372-cead100e3d5e",
   "metadata": {},
   "source": [
    "#### 💠Extracting date components using groups"
   ]
  },
  {
   "cell_type": "code",
   "execution_count": 70,
   "id": "a870b58f-735d-44f7-b586-eaa145ff502a",
   "metadata": {},
   "outputs": [
    {
     "name": "stdout",
     "output_type": "stream",
     "text": [
      "Year: 2023\n",
      "Month: 10\n",
      "Day: 28\n"
     ]
    }
   ],
   "source": [
    "# Date in YYYY-MM-DD format\n",
    "date = \"2023-10-28\"\n",
    "\n",
    "# Using groups to capture year, month, and day\n",
    "result = re.search(r\"(\\d{4})-(\\d{2})-(\\d{2})\", date)\n",
    "\n",
    "print(\"Year:\", result.group(1))   # Output: Year: 2023\n",
    "print(\"Month:\", result.group(2))  # Output: Month: 10\n",
    "print(\"Day:\", result.group(3)) "
   ]
  },
  {
   "cell_type": "markdown",
   "id": "173704d3-a005-4bb5-9af5-6d15642e8223",
   "metadata": {},
   "source": [
    "## 5. Working with Substitution and Pattern Replacement"
   ]
  },
  {
   "cell_type": "markdown",
   "id": "f5d9f165-d2de-4e22-9d39-f0e372a5d370",
   "metadata": {},
   "source": [
    "### 5.1. `re.sub()`: Replace a pattern with another text"
   ]
  },
  {
   "cell_type": "markdown",
   "id": "9a1eea14-6529-4031-bc80-ccc294126182",
   "metadata": {},
   "source": [
    "#### 💠Replacing all digits with an asterisk"
   ]
  },
  {
   "cell_type": "code",
   "execution_count": 74,
   "id": "ee340dc4-da6e-467a-856f-c50a538335b0",
   "metadata": {},
   "outputs": [
    {
     "name": "stdout",
     "output_type": "stream",
     "text": [
      "Text after replacement: Phone: ***-***-****\n"
     ]
    }
   ],
   "source": [
    "# Text with numbers to be replaced\n",
    "text = \"Phone: 123-456-7890\"\n",
    "\n",
    "# Using re.sub() to replace digits with '*'\n",
    "result = re.sub(r\"\\d\", \"*\", text)\n",
    "\n",
    "# Displaying modified text\n",
    "print(\"Text after replacement:\", result)  # Output: Phone: ***-***-****\n"
   ]
  },
  {
   "cell_type": "markdown",
   "id": "cbc82a76-f6b8-4b3f-9ac4-1751ad02476d",
   "metadata": {},
   "source": [
    "#### 💠Replacing email domains to anonymize email addresses"
   ]
  },
  {
   "cell_type": "code",
   "execution_count": 76,
   "id": "2d900903-7e33-4638-9d15-f84f07cb295f",
   "metadata": {},
   "outputs": [
    {
     "name": "stdout",
     "output_type": "stream",
     "text": [
      "Anonymized emails: Emails: alice@hidden.com, bob@hidden.com\n"
     ]
    }
   ],
   "source": [
    "# Text with email addresses\n",
    "text = \"Emails: alice@example.com, bob@test.com\"\n",
    "\n",
    "# Using re.sub() to replace domains with 'hidden.com'\n",
    "result = re.sub(r\"@\\w+\\.\\w+\", \"@hidden.com\", text)\n",
    "\n",
    "# Displaying modified text\n",
    "print(\"Anonymized emails:\", result)  # Output: Emails: alice@hidden.com, bob@hidden.com"
   ]
  },
  {
   "cell_type": "markdown",
   "id": "c8bee165-a716-4e0c-ae53-34bdbcd4ecd7",
   "metadata": {},
   "source": [
    "### 5.2. re.subn(): Similar to sub() but returns the count of replacements"
   ]
  },
  {
   "cell_type": "markdown",
   "id": "7bec9c5d-a8db-432a-99fc-4b746a175ce4",
   "metadata": {},
   "source": [
    "<div style=\"background-color: #dafbe1; border-left: 5px solid #34c759; padding: 10px;\">\r\n",
    "<code>re.subn()</code>: Functions like <code>re.sub()</code>, but also returns the number of substitutions made.\r\n",
    "</div>\r\n"
   ]
  },
  {
   "cell_type": "markdown",
   "id": "c5981162-988c-49ac-b614-726c5c788db4",
   "metadata": {},
   "source": [
    "#### 💠Replacing spaces with underscores and counting replacements"
   ]
  },
  {
   "cell_type": "code",
   "execution_count": 80,
   "id": "29414edf-6aff-4aeb-bd83-b111893e7d62",
   "metadata": {},
   "outputs": [
    {
     "name": "stdout",
     "output_type": "stream",
     "text": [
      "Modified text: Convert_spaces_to_underscores\n",
      "Number of replacements: 3\n"
     ]
    }
   ],
   "source": [
    "# Text with spaces to replace\n",
    "text = \"Convert spaces to underscores\"\n",
    "\n",
    "# Using re.subn() to replace spaces with underscores\n",
    "result, count = re.subn(r\"\\s\", \"_\", text)\n",
    "\n",
    "# Displaying modified text and count of replacements\n",
    "print(\"Modified text:\", result)     # Output: Convert_spaces_to_underscores\n",
    "print(\"Number of replacements:\", count)  # Output: Number of replacements: 3\n"
   ]
  },
  {
   "cell_type": "markdown",
   "id": "8eb135f9-5016-487f-9921-f783a8d6d98c",
   "metadata": {},
   "source": [
    "#### 💠Removing vowels and counting occurrences"
   ]
  },
  {
   "cell_type": "code",
   "execution_count": 82,
   "id": "3a91c58c-fcd8-49da-b5b2-615db334853b",
   "metadata": {},
   "outputs": [
    {
     "name": "stdout",
     "output_type": "stream",
     "text": [
      "Text without vowels: Rmv vwls frm ths txt\n",
      "Number of vowels removed: 8\n"
     ]
    }
   ],
   "source": [
    "# Text with vowels to remove\n",
    "text = \"Remove vowels from this text\"\n",
    "\n",
    "# Using re.subn() to remove vowels\n",
    "result, count = re.subn(r\"[aeiouAEIOU]\", \"\", text)\n",
    "\n",
    "# Displaying modified text and count of vowels removed\n",
    "print(\"Text without vowels:\", result)  # Output: Rmv vwls frm ths txt\n",
    "print(\"Number of vowels removed:\", count)  # Output: Number of vowels removed: 8\n"
   ]
  },
  {
   "cell_type": "markdown",
   "id": "1799d5be-d9e6-4386-a5e9-59f0dbc21611",
   "metadata": {},
   "source": [
    "## 6. Start and End of Line or Text"
   ]
  },
  {
   "cell_type": "markdown",
   "id": "3a265999-fc14-4eed-9da5-8f46c2dbaca3",
   "metadata": {},
   "source": [
    "### 6.1. `^` and `$`: Match the start and end of a line"
   ]
  },
  {
   "cell_type": "markdown",
   "id": "09d3e61c-e2f0-4c73-95cd-93fa4b2225bc",
   "metadata": {},
   "source": [
    "<div style=\"background-color: #dafbe1; border-left: 5px solid #34c759; padding: 10px;\">\n",
    "<code>^</code>: Matches the start of a line.<br>\n",
    "<code>$</code>: Matches the end of a line.\n",
    "</div>"
   ]
  },
  {
   "cell_type": "markdown",
   "id": "ee3942c0-b364-4492-9b1a-79e89aeb7386",
   "metadata": {},
   "source": [
    "#### 💠Checking if a line starts with a specific word"
   ]
  },
  {
   "cell_type": "code",
   "execution_count": 87,
   "id": "f8c4f230-c1dd-450d-bcb0-d7d6d88ddf4e",
   "metadata": {},
   "outputs": [
    {
     "name": "stdout",
     "output_type": "stream",
     "text": [
      "<re.Match object; span=(0, 5), match='Hello'>\n",
      "Starts with 'Hello'\n"
     ]
    }
   ],
   "source": [
    "# Text to check if it starts with \"Hello\"\n",
    "text = \"Hello there\"\n",
    "\n",
    "# Using re.search() with ^ to check the beginning of the line\n",
    "result = re.search(r\"^Hello\", text)\n",
    "\n",
    "print(result)\n",
    "\n",
    "if result:\n",
    "    print(\"Starts with 'Hello'\")  # Output: Starts with 'Hello'\n",
    "else:\n",
    "    print(\"Does not start with 'Hello'\")"
   ]
  },
  {
   "cell_type": "markdown",
   "id": "c5b78376-e960-4f61-8265-243bc4fe4c3a",
   "metadata": {},
   "source": [
    "#### 💠Checking if a line ends with a specific pattern"
   ]
  },
  {
   "cell_type": "code",
   "execution_count": 89,
   "id": "f47c4f07-3e22-4bc0-bed7-62371f9f6ff2",
   "metadata": {},
   "outputs": [
    {
     "name": "stdout",
     "output_type": "stream",
     "text": [
      "Ends with 'done.'\n"
     ]
    }
   ],
   "source": [
    "# Text to check if it ends with \"done.\"\n",
    "text = \"The process is now done.\"\n",
    "\n",
    "# Using re.search() with $ to check the end of the line\n",
    "result = re.search(r\"done\\.$\", text)\n",
    "\n",
    "# Displaying result if matched\n",
    "if result:\n",
    "    print(\"Ends with 'done.'\")  # Output: Ends with 'done.'\n",
    "else:\n",
    "    print(\"Does not end with 'done.'\")"
   ]
  },
  {
   "cell_type": "markdown",
   "id": "f4bb3c1e-d981-49ff-9a52-bf9a640f8085",
   "metadata": {},
   "source": [
    "### 6.2. `\\A` and `\\Z`: Match the start and end of the entire text"
   ]
  },
  {
   "cell_type": "markdown",
   "id": "ff61806d-1e19-4f05-b688-3b8e0224c0cb",
   "metadata": {},
   "source": [
    "<div style=\"background-color: #dafbe1; border-left: 5px solid #34c759; padding: 10px;\">\r\n",
    "<code>\\A</code>: Matches the beginning of the entire text.<br>\r\n",
    "<code>\\Z</code>: Matches the end of the entire text.\r\n",
    "</dv>\r\n"
   ]
  },
  {
   "cell_type": "markdown",
   "id": "dbdcbfe1-37bd-4272-b487-9e1d84d56a19",
   "metadata": {},
   "source": [
    "#### 💠Checking if text starts with a specific pattern (entire text)"
   ]
  },
  {
   "cell_type": "code",
   "execution_count": 93,
   "id": "f537571f-47dd-4893-97a9-92be07620c74",
   "metadata": {},
   "outputs": [
    {
     "name": "stdout",
     "output_type": "stream",
     "text": [
      "Text starts with 'Start'\n"
     ]
    }
   ],
   "source": [
    "# Full text to check\n",
    "text = \"Start of text here\"\n",
    "\n",
    "# Using re.search() with \\A to check if text starts with \"Start\"\n",
    "result = re.search(r\"\\AStart\", text)\n",
    "\n",
    "# Displaying result if matched\n",
    "if result:\n",
    "    print(\"Text starts with 'Start'\")  # Output: Text starts with 'Start'\n",
    "else:\n",
    "    print(\"Text does not start with 'Start'\")\n"
   ]
  },
  {
   "cell_type": "markdown",
   "id": "9ef8ab68-47c1-4369-939a-48db7551f77b",
   "metadata": {},
   "source": [
    "#### 💠Checking if text ends with a period"
   ]
  },
  {
   "cell_type": "code",
   "execution_count": 95,
   "id": "bbc5a001-eed4-4af5-a211-a1018c1c8fac",
   "metadata": {},
   "outputs": [
    {
     "name": "stdout",
     "output_type": "stream",
     "text": [
      "Text ends with a period\n"
     ]
    }
   ],
   "source": [
    "# Full text to check\n",
    "text = \"This is a complete sentence.\"\n",
    "\n",
    "# Using re.search() with \\Z to check if text ends with a period\n",
    "result = re.search(r\"\\.$\", text)\n",
    "\n",
    "# Displaying result if matched\n",
    "if result:\n",
    "    print(\"Text ends with a period\")  # Output: Text ends with a period\n",
    "else:\n",
    "    print(\"Text does not end with a period\")\n"
   ]
  },
  {
   "cell_type": "markdown",
   "id": "9eb9e939-c1ee-4d37-bf60-798e17699b27",
   "metadata": {},
   "source": [
    "## 7. Conditional Expressions and OR Logic"
   ]
  },
  {
   "cell_type": "markdown",
   "id": "71f4daea-6cbc-4250-840c-5864dae368b7",
   "metadata": {},
   "source": [
    "### 7.1 `|`: Using \"OR\" in pattern matching"
   ]
  },
  {
   "cell_type": "markdown",
   "id": "b1e99148-cd22-4c02-bdff-65b4bc6d37cd",
   "metadata": {},
   "source": [
    "<div style=\"background-color: #dafbe1; border-left: 5px solid #34c759; padding: 10px;\">\r\n",
    "<code>|</code>: Used to match one of multiple patterns.\r\n",
    "</div>\r\n"
   ]
  },
  {
   "cell_type": "markdown",
   "id": "ee57b624-0be3-4cab-ac63-d87e4f2ecbfa",
   "metadata": {},
   "source": [
    "#### 💠Finding either \"cat\" or \"dog\" in text"
   ]
  },
  {
   "cell_type": "code",
   "execution_count": 100,
   "id": "00312865-5375-4b14-983b-b44f82d1f75a",
   "metadata": {},
   "outputs": [
    {
     "name": "stdout",
     "output_type": "stream",
     "text": [
      "Animals found: ['cat', 'dog']\n"
     ]
    }
   ],
   "source": [
    "# Text containing animals\n",
    "text = \"I have a cat and a dog.\"\n",
    "\n",
    "# Using re.findall() with OR logic to find either \"cat\" or \"dog\"\n",
    "result = re.findall(r\"cat|dog\", text)\n",
    "\n",
    "# Displaying the list of found animals\n",
    "print(\"Animals found:\", result)  # Output: ['cat', 'dog']\n"
   ]
  },
  {
   "cell_type": "markdown",
   "id": "038dc7b2-f517-435d-833e-409e5a37a254",
   "metadata": {},
   "source": [
    "#### 💠Matching multiple possible greetings"
   ]
  },
  {
   "cell_type": "code",
   "execution_count": 102,
   "id": "bd4ae6a1-ff46-4359-84ef-54da558b1c0f",
   "metadata": {},
   "outputs": [
    {
     "data": {
      "text/plain": [
       "'Hello'"
      ]
     },
     "execution_count": 102,
     "metadata": {},
     "output_type": "execute_result"
    }
   ],
   "source": [
    "# Text with a greeting\n",
    "text = \"Hello there!\"\n",
    "\n",
    "# Using re.search() to find different greetings\n",
    "result = re.search(r\"Hello|Hi|Hey\", text)\n",
    "\n",
    "result.group()"
   ]
  },
  {
   "cell_type": "markdown",
   "id": "abb44774-c78b-48b3-a3b9-c5abdaab9d87",
   "metadata": {},
   "source": [
    "### 7.2. (expr1|expr2): Matching one of multiple patterns within parentheses"
   ]
  },
  {
   "cell_type": "markdown",
   "id": "6f5eeaf0-be0d-4f77-8386-00abc4d352ee",
   "metadata": {},
   "source": [
    "#### 💠Matching different color names"
   ]
  },
  {
   "cell_type": "code",
   "execution_count": 105,
   "id": "3672cfbf-a8f2-4c0f-ac8d-f2252d911e19",
   "metadata": {},
   "outputs": [
    {
     "name": "stdout",
     "output_type": "stream",
     "text": [
      "Colors found: ['red', 'blue', 'green']\n"
     ]
    }
   ],
   "source": [
    "# Text containing colors\n",
    "text = \"I like the colors red, blue, and green.\"\n",
    "\n",
    "# Using re.findall() to match one of the colors\n",
    "result = re.findall(r\"(red|blue|green)\", text)\n",
    "\n",
    "# Displaying the list of found colors\n",
    "print(\"Colors found:\", result)  # Output: ['red', 'blue', 'green']"
   ]
  },
  {
   "cell_type": "markdown",
   "id": "94b52389-5943-4cf4-a460-929a08cb654f",
   "metadata": {},
   "source": [
    "#### 💠Finding either a specific name or title"
   ]
  },
  {
   "cell_type": "code",
   "execution_count": 107,
   "id": "577df04f-ab1c-4858-9962-4d41be3560ac",
   "metadata": {},
   "outputs": [
    {
     "name": "stdout",
     "output_type": "stream",
     "text": [
      "Titles found: ['Mr.', 'Dr.']\n"
     ]
    }
   ],
   "source": [
    "# Text with names or titles\n",
    "text = \"The CEO Mr. John Doe and Dr. Alice Smith attended.\"\n",
    "\n",
    "# Using re.findall() to match either \"Mr.\" or \"Dr.\"\n",
    "result = re.findall(r\"(Mr\\.|Dr\\.)\", text)\n",
    "\n",
    "# Displaying the list of found titles\n",
    "print(\"Titles found:\", result)  # Output: ['Mr.', 'Dr.']"
   ]
  },
  {
   "cell_type": "markdown",
   "id": "8c6b8de2-202f-4b4c-bd09-d79ba08959ab",
   "metadata": {},
   "source": [
    "## 8. Special Position Markers and Backreferences"
   ]
  },
  {
   "cell_type": "markdown",
   "id": "9a7c26b1-bb98-4cb9-9846-1fee1a026591",
   "metadata": {},
   "source": [
    "### 8.1 `\\b` and `\\B`: Word boundary and non-boundary matching"
   ]
  },
  {
   "cell_type": "markdown",
   "id": "b4471909-d8d8-49f5-a9b2-7d1d9580ab49",
   "metadata": {},
   "source": [
    "<div style=\"background-color: #dafbe1; border-left: 5px solid #34c759; padding: 10px;\">\r\n",
    "<code>\\b</code>: Matches word boundaries (e.g., between a letter and a space or at the start/end of text).<br>\r\n",
    "<code>\\B</code>: Matches positions where there is no word boundary.\r\n",
    "</dv>\r\n"
   ]
  },
  {
   "cell_type": "markdown",
   "id": "44e5ec7a-e878-4a4f-88fd-d3b2731d0b82",
   "metadata": {},
   "source": [
    "#### 💠Matching words with a specific prefix"
   ]
  },
  {
   "cell_type": "code",
   "execution_count": 112,
   "id": "33ab2805-b79d-4224-8812-25eb903a0b3e",
   "metadata": {},
   "outputs": [
    {
     "name": "stdout",
     "output_type": "stream",
     "text": [
      "Words found: ['cat']\n"
     ]
    }
   ],
   "source": [
    "# Text to find words starting with \"cat\" as a full word\n",
    "text = \"The catapult and catalog are different from the cat.\"\n",
    "\n",
    "# Using \\b to find \"cat\" as a standalone word\n",
    "result = re.findall(r\"\\bcat\\b\", text)\n",
    "\n",
    "# Displaying found words\n",
    "print(\"Words found:\", result)  # Output: ['cat']\n"
   ]
  },
  {
   "cell_type": "markdown",
   "id": "89f392ff-b025-4fae-ae07-9e7f0c42a8aa",
   "metadata": {},
   "source": [
    "#### 💠Finding words containing \"cat\" within them"
   ]
  },
  {
   "cell_type": "code",
   "execution_count": 114,
   "id": "1095a9ab-d85e-4487-a2f7-5c3db9076880",
   "metadata": {},
   "outputs": [
    {
     "name": "stdout",
     "output_type": "stream",
     "text": [
      "Words containing 'cat': []\n"
     ]
    }
   ],
   "source": [
    "# Text to find words containing \"cat\" not as a boundary\n",
    "text = \"The catapult and catalog are different from the cat.\"\n",
    "\n",
    "# Using \\B to find \"cat\" as part of a larger word\n",
    "result = re.findall(r\"\\Bcat\\B\", text)\n",
    "\n",
    "# Displaying found words\n",
    "print(\"Words containing 'cat':\", result)  # Output: ['catalog']"
   ]
  },
  {
   "cell_type": "markdown",
   "id": "b005e77f-816c-4da8-9860-059278a60b91",
   "metadata": {},
   "source": [
    "### 8.2. `\\1`, `\\2`, ...: Backreferences to previous groups"
   ]
  },
  {
   "cell_type": "markdown",
   "id": "249cd928-cb23-45cd-acb8-6f4030ad9f53",
   "metadata": {},
   "source": [
    "#### 💠Finding repeated words"
   ]
  },
  {
   "cell_type": "code",
   "execution_count": 117,
   "id": "4dc612f7-c9df-4def-ab3c-849325f6a3c0",
   "metadata": {},
   "outputs": [
    {
     "data": {
      "text/plain": [
       "'is is'"
      ]
     },
     "execution_count": 117,
     "metadata": {},
     "output_type": "execute_result"
    }
   ],
   "source": [
    "# Text with possible repeated words\n",
    "text = \"This is is a test.\"\n",
    "\n",
    "# Using backreference \\1 to find repeated words\n",
    "result = re.search(r\"\\b(\\w+)\\s+\\1\\b\", text)\n",
    "\n",
    "result.group()"
   ]
  },
  {
   "cell_type": "markdown",
   "id": "c430cc44-1130-4ac2-b927-1b8d86d07695",
   "metadata": {},
   "source": [
    "#### 💠Matching paired patterns"
   ]
  },
  {
   "cell_type": "code",
   "execution_count": 119,
   "id": "915c2ae4-d4a9-4e79-b24c-ea3d404e59b1",
   "metadata": {},
   "outputs": [
    {
     "name": "stdout",
     "output_type": "stream",
     "text": [
      "Paired letters: ['a', 'b']\n"
     ]
    }
   ],
   "source": [
    "# Text with paired patterns\n",
    "text = \"The following words are paired: 'aa' and 'bb'.\"\n",
    "\n",
    "# Using backreference to find pairs of the same letter\n",
    "result = re.findall(r\"(\\b\\w)\\1\\b\", text)\n",
    "\n",
    "# Displaying all found pairs\n",
    "print(\"Paired letters:\", result)  # Output: ['a', 'b']"
   ]
  },
  {
   "cell_type": "markdown",
   "id": "e49f2f33-c5d5-4b01-a9f4-28bf2d7ac7b2",
   "metadata": {},
   "source": [
    "## 9. Lookaheads and Lookbehinds"
   ]
  },
  {
   "cell_type": "markdown",
   "id": "60ae9272-dbdd-489d-8275-759786ccefff",
   "metadata": {},
   "source": [
    "### 9.1. `(?=...)`: Positive lookahead"
   ]
  },
  {
   "cell_type": "markdown",
   "id": "0bfb8bed-c303-4b83-b2bf-ce113abcbfe8",
   "metadata": {},
   "source": [
    "#### 💠Finding words followed by \"ing\""
   ]
  },
  {
   "cell_type": "code",
   "execution_count": 123,
   "id": "c1e407e5-8c49-4dba-88b8-135870400acc",
   "metadata": {},
   "outputs": [
    {
     "name": "stdout",
     "output_type": "stream",
     "text": [
      "Words followed by 'ing': ['runn', 'jump', 'swimm']\n"
     ]
    }
   ],
   "source": [
    "# Text to find words followed by \"ing\"\n",
    "text = \"I am running, jumping, and swimming.\"\n",
    "\n",
    "# Using positive lookahead to find words before \"ing\"\n",
    "result = re.findall(r\"\\b\\w+(?=ing\\b)\", text)\n",
    "\n",
    "# Displaying words that have \"ing\" after them\n",
    "print(\"Words followed by 'ing':\", result)  # Output: ['runn', 'jump', 'swimm']\n"
   ]
  },
  {
   "cell_type": "markdown",
   "id": "279e8dee-27fd-44dd-86ca-ff66f6dace6b",
   "metadata": {},
   "source": [
    "### 9.2. `(?!...)`: Negative lookahead"
   ]
  },
  {
   "cell_type": "markdown",
   "id": "90e56484-1718-4393-93ab-0fd6b29e8f03",
   "metadata": {},
   "source": [
    "#### 💠Finding words not followed by \"ed\""
   ]
  },
  {
   "cell_type": "code",
   "execution_count": 126,
   "id": "71e36866-faf4-4ab1-8f95-c48a82c2f4dd",
   "metadata": {},
   "outputs": [
    {
     "name": "stdout",
     "output_type": "stream",
     "text": [
      "Words not followed by 'ed': ['I', 'walked', 'talked', 'and', 'play']\n"
     ]
    }
   ],
   "source": [
    "# Text to find words not followed by \"ed\"\n",
    "text = \"I walked, talked, and play.\"\n",
    "\n",
    "# Using negative lookahead to find words that are not followed by \"ed\"\n",
    "result = re.findall(r\"\\b\\w+\\b(?!ed)\", text)\n",
    "\n",
    "# Displaying words that are not followed by \"ed\"\n",
    "print(\"Words not followed by 'ed':\", result)  # Output: ['play']\n"
   ]
  },
  {
   "cell_type": "markdown",
   "id": "b647d3dd-ecff-48f4-a38a-3d540bff2939",
   "metadata": {},
   "source": [
    "### 9.3 `(?<=...)`: Positive lookbehind"
   ]
  },
  {
   "cell_type": "markdown",
   "id": "3711d2f8-d17e-4f71-b1db-77f004365e17",
   "metadata": {},
   "source": [
    "#### 💠Finding words preceded by a number"
   ]
  },
  {
   "cell_type": "code",
   "execution_count": 129,
   "id": "12bbf523-1dcd-4535-9ff5-0add127520c7",
   "metadata": {},
   "outputs": [
    {
     "name": "stdout",
     "output_type": "stream",
     "text": [
      "Words following a number: ['apples', 'oranges']\n"
     ]
    }
   ],
   "source": [
    "# Text to find words that follow a number\n",
    "text = \"There are 3 apples and 5 oranges.\"\n",
    "\n",
    "# Using positive lookbehind to find words after a number\n",
    "result = re.findall(r\"(?<=\\d\\s)\\w+\", text)\n",
    "\n",
    "# Displaying words that come after numbers\n",
    "print(\"Words following a number:\", result)  # Output: ['apples', 'oranges']\n"
   ]
  },
  {
   "cell_type": "markdown",
   "id": "d925e5c0-5aba-49c6-9dc7-469e27e460c3",
   "metadata": {},
   "source": [
    "### 9.4 `(?<!...)`: Negative lookbehind"
   ]
  },
  {
   "cell_type": "markdown",
   "id": "9612d188-ed9e-4c50-89ae-997a1462061f",
   "metadata": {},
   "source": [
    "#### 💠Finding words not preceded by a number"
   ]
  },
  {
   "cell_type": "code",
   "execution_count": 132,
   "id": "93725c94-65fa-4573-b6bc-c2671eb36489",
   "metadata": {},
   "outputs": [
    {
     "name": "stdout",
     "output_type": "stream",
     "text": [
      "Words not preceded by a number: ['In', '2020', 'had', 'some', 'difficult', 'times']\n"
     ]
    }
   ],
   "source": [
    "# Text to find words not preceded by a number\n",
    "text = \"In 2020 we had some difficult times.\"\n",
    "\n",
    "# Using negative lookbehind to find words that are not preceded by a number\n",
    "result = re.findall(r\"(?<!\\d\\s)\\b\\w+\\b\", text)\n",
    "\n",
    "# Displaying words that do not follow a number\n",
    "print(\"Words not preceded by a number:\", result)  \n",
    "# Output: ['In', 'we', 'had', 'some', 'difficult', 'times']\n"
   ]
  },
  {
   "cell_type": "markdown",
   "id": "092acae1-9cdd-4dc2-8c73-827474d44d6e",
   "metadata": {},
   "source": [
    "## 10. Complex Expressions and Using re.compile"
   ]
  },
  {
   "cell_type": "markdown",
   "id": "2431d3b2-2732-4334-9d96-d727cdc0ea35",
   "metadata": {},
   "source": [
    "### 10.1 `re.compile()`: Compiling a pattern for repeated use"
   ]
  },
  {
   "cell_type": "markdown",
   "id": "b8134b49-370b-4442-9b61-c2c1ef3145e5",
   "metadata": {},
   "source": [
    "#### 💠Compiling a pattern to find emails"
   ]
  },
  {
   "cell_type": "code",
   "execution_count": 136,
   "id": "4111ca3e-f3d3-4f68-9335-a3b75874f392",
   "metadata": {},
   "outputs": [
    {
     "name": "stdout",
     "output_type": "stream",
     "text": [
      "Email addresses: ['support@example.com', 'info@domain.com']\n"
     ]
    }
   ],
   "source": [
    "# Pattern to find email addresses\n",
    "email_pattern = re.compile(r\"\\b\\w+@\\w+\\.\\w+\\b\")\n",
    "\n",
    "# Text with multiple email addresses\n",
    "text = \"Contact us at support@example.com or info@domain.com.\"\n",
    "\n",
    "# Using the compiled pattern to find all emails\n",
    "result = email_pattern.findall(text)\n",
    "\n",
    "# Displaying found emails\n",
    "print(\"Email addresses:\", result)  # Output: ['support@example.com', 'info@domain.com']\n"
   ]
  },
  {
   "cell_type": "markdown",
   "id": "884be5b4-2e98-4d55-84a9-462212c53b6c",
   "metadata": {},
   "source": [
    "### 10.2. Combining multiple flags with `re.compile()`"
   ]
  },
  {
   "cell_type": "markdown",
   "id": "431dd074-44d3-441a-b637-b1cc355efd1b",
   "metadata": {},
   "source": [
    "#### 💠Case-insensitive search for a word in multi-line text"
   ]
  },
  {
   "cell_type": "code",
   "execution_count": 139,
   "id": "66474f96-ab96-46ce-8a63-5ef6afd058b3",
   "metadata": {},
   "outputs": [
    {
     "name": "stdout",
     "output_type": "stream",
     "text": [
      "Lines starting with 'this': ['This', 'this']\n"
     ]
    }
   ],
   "source": [
    "# Multi-line text\n",
    "text = \"\"\"This is Line One.\n",
    "this is line two.\n",
    "And this is LINE three.\"\"\"\n",
    "\n",
    "# Compiling pattern with case-insensitive and multi-line flags\n",
    "pattern = re.compile(r\"^this\", re.IGNORECASE | re.MULTILINE)\n",
    "\n",
    "# Finding all occurrences at the start of each line\n",
    "result = pattern.findall(text)\n",
    "\n",
    "# Displaying matched lines\n",
    "print(\"Lines starting with 'this':\", result)  # Output: ['This', 'this', 'this']"
   ]
  },
  {
   "cell_type": "markdown",
   "id": "9562b154-0ce1-4be4-b18c-976ed7105e1c",
   "metadata": {},
   "source": [
    "## 11. Writing Complex Patterns for Specialized Processing"
   ]
  },
  {
   "cell_type": "markdown",
   "id": "1482a223-93fd-4dfa-b5cd-c3e7b2c8042a",
   "metadata": {},
   "source": [
    "### 11.1. Designing patterns to extract complex information like emails, phone numbers, and URLs"
   ]
  },
  {
   "cell_type": "markdown",
   "id": "3aae8b99-7d22-4724-9a62-b0855cc39888",
   "metadata": {},
   "source": [
    "#### 💠Extracting phone numbers in a specific format"
   ]
  },
  {
   "cell_type": "code",
   "execution_count": 143,
   "id": "b3a13a33-4974-456e-87eb-45661aa93564",
   "metadata": {},
   "outputs": [
    {
     "name": "stdout",
     "output_type": "stream",
     "text": [
      "Phone numbers: ['(123) 456-7890', '987-654-3210']\n"
     ]
    }
   ],
   "source": [
    "# Text containing phone numbers\n",
    "text = \"Contact us at (123) 456-7890 or 987-654-3210.\"\n",
    "\n",
    "# Compiled pattern for phone numbers in different formats\n",
    "phone_pattern = re.compile(r\"\\(?\\d{3}\\)?[-.\\s]?\\d{3}[-.\\s]?\\d{4}\")\n",
    "\n",
    "# Finding all phone numbers\n",
    "result = phone_pattern.findall(text)\n",
    "\n",
    "# Displaying found phone numbers\n",
    "print(\"Phone numbers:\", result)  # Output: ['(123) 456-7890', '987-654-3210']\n"
   ]
  },
  {
   "cell_type": "markdown",
   "id": "2cf14b53-32d0-4e86-ac7a-6759a4972219",
   "metadata": {},
   "source": [
    "#### 💠Extracting URLs from text"
   ]
  },
  {
   "cell_type": "code",
   "execution_count": 145,
   "id": "ee8c13b1-32a0-436b-94e0-a8074d3a88fd",
   "metadata": {},
   "outputs": [
    {
     "name": "stdout",
     "output_type": "stream",
     "text": [
      "URLs found: ['https://example.com', 'http://test.org']\n"
     ]
    }
   ],
   "source": [
    "# Text with URLs\n",
    "text = \"Visit https://example.com or http://test.org for more information.\"\n",
    "\n",
    "# Compiled pattern for URLs\n",
    "url_pattern = re.compile(r\"https?://\\w+\\.\\w+\")\n",
    "\n",
    "# Finding all URLs\n",
    "result = url_pattern.findall(text)\n",
    "\n",
    "# Displaying found URLs\n",
    "print(\"URLs found:\", result)  # Output: ['https://example.com', 'http://test.org']\n"
   ]
  },
  {
   "cell_type": "markdown",
   "id": "6fa888a8-d2ea-4aa3-ab1f-4419012dc1d9",
   "metadata": {},
   "source": [
    "### 11.2. Using multi-line and multi-part patterns for processing larger texts"
   ]
  },
  {
   "cell_type": "markdown",
   "id": "a8f39758-c568-40ab-a4b6-3a07acf591c0",
   "metadata": {},
   "source": [
    "#### 💠Extracting all sentences starting with a capital letter in a multi-line text"
   ]
  },
  {
   "cell_type": "code",
   "execution_count": 148,
   "id": "bacd27bd-5357-4ad6-b7f2-bec6475d2c8e",
   "metadata": {},
   "outputs": [
    {
     "name": "stdout",
     "output_type": "stream",
     "text": [
      "Sentences starting with capital letters: ['This is the first line.', 'Here is Another Sentence.']\n"
     ]
    }
   ],
   "source": [
    "# Multi-line text with sentences\n",
    "text = \"\"\"This is the first line.\n",
    "and this line does not start with a capital letter.\n",
    "Here is Another Sentence.\n",
    "finally, this one doesn't start with a capital letter either.\"\"\"\n",
    "\n",
    "# Compiling pattern with multi-line flag\n",
    "sentence_pattern = re.compile(r\"^[A-Z][^\\.]*\\.\", re.MULTILINE)\n",
    "\n",
    "# Finding all sentences that start with a capital letter\n",
    "result = sentence_pattern.findall(text)\n",
    "\n",
    "# Displaying matched sentences\n",
    "print(\"Sentences starting with capital letters:\", result)  \n",
    "# Output: ['This is the first line.', 'Here is Another Sentence.']"
   ]
  },
  {
   "cell_type": "markdown",
   "id": "dcaf8fbc-6030-4a44-a6da-36180b9c3d86",
   "metadata": {},
   "source": [
    "# HW"
   ]
  },
  {
   "cell_type": "code",
   "execution_count": 150,
   "id": "896ab8aa-5221-4326-b1b3-de3e2c67e3ff",
   "metadata": {},
   "outputs": [
    {
     "name": "stdout",
     "output_type": "stream",
     "text": [
      "Found emails: ['support@example.com', 'sales@mycompany.co']\n"
     ]
    }
   ],
   "source": [
    "import re\n",
    "\n",
    "# The text in which we want to find emails\n",
    "text = \"Please contact us at support@example.com or sales@mycompany.co for more information.\"\n",
    "\n",
    "# Using regex to find all emails\n",
    "emails = re.findall(r'[a-zA-Z0-9._%+-]+@[a-zA-Z0-9.-]+\\.[a-zA-Z]{2,}', text)\n",
    "\n",
    "# Displaying all found emails\n",
    "print(\"Found emails:\", emails)"
   ]
  }
 ],
 "metadata": {
  "kernelspec": {
   "display_name": "Python 3 (ipykernel)",
   "language": "python",
   "name": "python3"
  },
  "language_info": {
   "codemirror_mode": {
    "name": "ipython",
    "version": 3
   },
   "file_extension": ".py",
   "mimetype": "text/x-python",
   "name": "python",
   "nbconvert_exporter": "python",
   "pygments_lexer": "ipython3",
   "version": "3.11.7"
  }
 },
 "nbformat": 4,
 "nbformat_minor": 5
}
