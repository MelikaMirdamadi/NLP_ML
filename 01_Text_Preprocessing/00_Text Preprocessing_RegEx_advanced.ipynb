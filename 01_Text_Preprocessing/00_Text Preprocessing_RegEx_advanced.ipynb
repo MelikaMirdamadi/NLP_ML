{
 "cells": [
  {
   "cell_type": "markdown",
   "id": "992e1138-1a54-4a79-88ea-67e06c85e401",
   "metadata": {},
   "source": [
    "<h1 align=\"center\">Machine Learning for NLP</h1>\n",
    "    <h2 align=\"center\">Text Preprocessing with RegEx</h2>\n",
    "    <h3 align=\"center\">Zahra Amini</h3>\n",
    "<div style=\"width: 100%; text-align: center;\">\n",
    "    <table>\n",
    "        <tr>\n",
    "            <td>\n",
    "                <a class=\"link\" href=\"https://t.me/Zahraamini_ai\">Telegram</a><br>\n",
    "                <a class=\"link\" href=\"https://www.linkedin.com/in/zahraamini-ai/\">LinkedIn</a><br>\n",
    "                <a class=\"link\" href=\"https://www.youtube.com/@AcademyHobot\">YouTube</a><br>\n",
    "            </td>\n",
    "            <td>\n",
    "                <a class=\"link\" href=\"https://github.com/aminizahra\">GitHub</a><br>\n",
    "                <a class=\"link\" href=\"https://www.kaggle.com/aminizahra\">Kaggle</a><br>\n",
    "                <a class=\"link\" href=\"https://www.instagram.com/zahraamini_ai/\">Instagram</a><br>\n",
    "            </td>\n",
    "        </tr>\n",
    "    </table>\n",
    "</div>"
   ]
  },
  {
   "cell_type": "markdown",
   "id": "7a68f927-1676-4c11-8c4a-9ccb0632fd74",
   "metadata": {},
   "source": [
    "## 1. Importing the library"
   ]
  },
  {
   "cell_type": "code",
   "execution_count": 3,
   "id": "43180b61-af9d-4a33-a9e3-20beee2fe601",
   "metadata": {},
   "outputs": [],
   "source": [
    "import re"
   ]
  },
  {
   "cell_type": "markdown",
   "id": "3a4ce17c-eaac-4d4d-8504-12c5bca50961",
   "metadata": {},
   "source": [
    "## 2. Multiple Flags and Pattern Configurations"
   ]
  },
  {
   "cell_type": "markdown",
   "id": "d25a9ed3-7b96-4c12-abf1-a36282ea2f7d",
   "metadata": {},
   "source": [
    "### 2.1. `re.IGNORECASE` or `re.I`: Case-insensitive matching"
   ]
  },
  {
   "cell_type": "markdown",
   "id": "ee793108-ccfe-4b78-b885-88b36672e368",
   "metadata": {},
   "source": [
    "<div style=\"background-color: #dafbe1; border-left: 5px solid #34c759; padding: 10px;\">\r\n",
    "This flag makes the regex case-insensitive.\r\n",
    "</di>\r\n"
   ]
  },
  {
   "cell_type": "markdown",
   "id": "d819903a-04d6-460f-919f-e0bf3693dcae",
   "metadata": {},
   "source": [
    "#### 💠Finding words regardless of case"
   ]
  },
  {
   "cell_type": "code",
   "execution_count": 8,
   "id": "2cac9cb3-94a5-4d86-bb1c-d9da0358baa3",
   "metadata": {},
   "outputs": [
    {
     "name": "stdout",
     "output_type": "stream",
     "text": [
      "Matches (case-insensitive): ['Python', 'python']\n"
     ]
    }
   ],
   "source": [
    "text = \"Python is great. python is fun.\"\n",
    "\n",
    "# Using re.IGNORECASE to find \"python\" in any case\n",
    "result = re.findall(r\"python\", text, re.IGNORECASE)\n",
    "\n",
    "print(\"Matches (case-insensitive):\", result)  # Output: ['Python', 'python']"
   ]
  },
  {
   "cell_type": "markdown",
   "id": "324ad3c2-7e7a-4857-8daf-570d5a46569f",
   "metadata": {},
   "source": [
    "### 2.2. `re.MULTILINE` or `re.M`: Multi-line mode for line-by-line matching"
   ]
  },
  {
   "cell_type": "markdown",
   "id": "e3a35353-b647-4a97-9aa6-8e34031c5c37",
   "metadata": {},
   "source": [
    "<div style=\"background-color: #dafbe1; border-left: 5px solid #34c759; padding: 10px;\">\r\n",
    "The <code>re.MULTILINE</code> flag makes the <code>^</code> and <code>$</code> characters match the start and end of each line individually.\r\n",
    "</di>\r\n",
    ">\r\n"
   ]
  },
  {
   "cell_type": "markdown",
   "id": "737744b8-ae9e-42fc-b38e-4819f50d43cd",
   "metadata": {},
   "source": [
    "#### 💠Matching the start of each line"
   ]
  },
  {
   "cell_type": "code",
   "execution_count": 12,
   "id": "c6f695bf-f903-435a-805f-21ca2fae94ba",
   "metadata": {},
   "outputs": [
    {
     "name": "stdout",
     "output_type": "stream",
     "text": [
      "Lines starting with 'hello': ['Hello', 'hello']\n"
     ]
    }
   ],
   "source": [
    "text = \"\"\"Hello world\n",
    "Python is awesome\n",
    "hello world again\"\"\"\n",
    "\n",
    "# Using re.MULTILINE to match start of each line\n",
    "result = re.findall(r\"^hello\", text, re.IGNORECASE | re.MULTILINE)\n",
    "\n",
    "print(\"Lines starting with 'hello':\", result)  # Output: ['Hello', 'hello']\n"
   ]
  },
  {
   "cell_type": "markdown",
   "id": "da1e9819-d50f-42c8-8e92-bff4352712f2",
   "metadata": {},
   "source": [
    "### 2.3. `re.DOTALL` or `re.S`: Allow `.` to match newlines"
   ]
  },
  {
   "cell_type": "markdown",
   "id": "d0f4adbc-9840-4654-81c1-e287afe0878e",
   "metadata": {},
   "source": [
    "<div style=\"background-color: #dafbe1; border-left: 5px solid #34c759; padding: 10px;\">\r\n",
    "The <code>re.DOTALL</code> flag allows the <code>.</code> character to match newline (<code>\\n</code>) characters in addition to regular characters.\r\n",
    "</div>\r\n",
    ">\r\n"
   ]
  },
  {
   "cell_type": "markdown",
   "id": "1918edd3-728b-42ff-8055-db3edb5d7f85",
   "metadata": {},
   "source": [
    "#### 💠Matching a multi-line sentence"
   ]
  },
  {
   "cell_type": "code",
   "execution_count": 16,
   "id": "0583df6a-d427-4e79-93a7-439273d06096",
   "metadata": {},
   "outputs": [
    {
     "name": "stdout",
     "output_type": "stream",
     "text": [
      "Match with DOTALL: Hello world.\n",
      "This is Python\n"
     ]
    }
   ],
   "source": [
    "text = \"Hello world.\\nThis is Python.\"\n",
    "\n",
    "# Using re.DOTALL to match across newlines\n",
    "result = re.search(r\"Hello.*Python\", text, re.DOTALL)\n",
    "\n",
    "print(\"Match with DOTALL:\", result.group())  # Output: Hello world.\\nThis is Python."
   ]
  },
  {
   "cell_type": "markdown",
   "id": "04886ccc-aa95-463c-bb12-194497c62934",
   "metadata": {},
   "source": [
    "## 3. Using `re.finditer()`"
   ]
  },
  {
   "cell_type": "markdown",
   "id": "2230ee2f-7073-46d3-95fa-662b8caee6f4",
   "metadata": {},
   "source": [
    "<div style=\"background-color: #dafbe1; border-left: 5px solid #34c759; padding: 10px;\">\r\n",
    "<code>re.finditer()</code> returns an iterator of matches for a pattern. This method is useful for processing large texts and optimizing memory usage.\r\n",
    "</di>\r\n",
    ">\r\n"
   ]
  },
  {
   "cell_type": "markdown",
   "id": "f2cfea19-415c-4919-bf41-57bf0b3fd605",
   "metadata": {},
   "source": [
    "#### 💠Iterating through all word matches"
   ]
  },
  {
   "cell_type": "code",
   "execution_count": 20,
   "id": "9d1c5945-faae-4cab-8979-4d6f7b02d117",
   "metadata": {},
   "outputs": [
    {
     "name": "stdout",
     "output_type": "stream",
     "text": [
      "Word found: The\n",
      "Word found: quick\n",
      "Word found: brown\n",
      "Word found: fox\n",
      "Word found: jumps\n",
      "Word found: over\n",
      "Word found: the\n",
      "Word found: lazy\n",
      "Word found: dog\n"
     ]
    }
   ],
   "source": [
    "text = \"The quick brown fox jumps over the lazy dog.\"\n",
    "\n",
    "# Using re.finditer() to iterate over matches\n",
    "for match in re.finditer(r'\\b\\w+\\b', text):\n",
    "    print(\"Word found:\", match.group())"
   ]
  },
  {
   "cell_type": "markdown",
   "id": "af49716c-cbb6-4277-90f2-4292973c1dfe",
   "metadata": {},
   "source": [
    "## 4. Combining Flags with `re.compile()`"
   ]
  },
  {
   "cell_type": "markdown",
   "id": "0a9487e1-3576-4463-aa45-023afbf9c6a5",
   "metadata": {},
   "source": [
    "<div style=\"background-color: #dafbe1; border-left: 5px solid #34c759; padding: 10px;\">\r\n",
    "<code>re.compile()</code> allows combining flags for specific use cases, enabling customized pattern matching.\r\n",
    "</di>\r\n"
   ]
  },
  {
   "cell_type": "markdown",
   "id": "dcd3a5c4-d766-4e10-9467-64e923dfe6a6",
   "metadata": {},
   "source": [
    "#### 💠Compiling a pattern with case-insensitive and multi-line flags"
   ]
  },
  {
   "cell_type": "code",
   "execution_count": 24,
   "id": "f86f20c6-07ea-4ed4-b76e-09cd9b80cad5",
   "metadata": {},
   "outputs": [
    {
     "name": "stdout",
     "output_type": "stream",
     "text": [
      "Matches with combined flags: ['hello', 'Python', 'WORLD']\n"
     ]
    }
   ],
   "source": [
    "# Compiling pattern with combined flags\n",
    "pattern = re.compile(r'^[a-z]+', re.IGNORECASE | re.MULTILINE)\n",
    "\n",
    "text = \"\"\"hello\n",
    "Python\n",
    "WORLD\"\"\"\n",
    "\n",
    "# Finding all matches at the start of each line\n",
    "result = pattern.findall(text)\n",
    "\n",
    "print(\"Matches with combined flags:\", result)  # Output: ['hello', 'Python', 'WORLD']\n"
   ]
  },
  {
   "cell_type": "markdown",
   "id": "955c32e0-83cd-4ce7-b4db-bdd5474e1d43",
   "metadata": {},
   "source": [
    "## 5. Managing Unicode Characters"
   ]
  },
  {
   "cell_type": "markdown",
   "id": "eef58c45-cf83-4984-88ed-2866c9385df7",
   "metadata": {},
   "source": [
    "<div style=\"background-color: #dafbe1; border-left: 5px solid #34c759; padding: 10px;\">\n",
    "For handling text data with non-Latin characters (such as Persian, Arabic, or other Unicode characters), the flags <code>re.UNICODE</code> and <code>re.ASCII</code> are used.<br><br>\n",
    "- <code>re.UNICODE</code>: Ensures that Unicode characters are correctly matched according to Unicode rules.<br>\n",
    "- <code>re.ASCII</code>: Restricts matching to ASCII characters only, ignoring non-ASCII characters.\n",
    "</div>"
   ]
  },
  {
   "cell_type": "markdown",
   "id": "089c00cd-bd8e-4897-88fd-b99b1e388bd4",
   "metadata": {},
   "source": [
    "### 5.1. `re.UNICODE`: Enable Unicode matching"
   ]
  },
  {
   "cell_type": "markdown",
   "id": "bde365f9-7d97-4e15-ac1c-fce3dfa248c6",
   "metadata": {},
   "source": [
    "#### 💠Matching Persian words"
   ]
  },
  {
   "cell_type": "code",
   "execution_count": 29,
   "id": "953ac782-c373-4bf8-87b3-ec1191f31bc5",
   "metadata": {},
   "outputs": [
    {
     "name": "stdout",
     "output_type": "stream",
     "text": [
      "Persian words found: ['سلام', 'به', 'شما']\n"
     ]
    }
   ],
   "source": [
    "text = \"سلام به شما\"\n",
    "\n",
    "# Using re.UNICODE to match Persian words\n",
    "result = re.findall(r\"\\w+\", text, re.UNICODE)\n",
    "\n",
    "print(\"Persian words found:\", result)"
   ]
  },
  {
   "cell_type": "markdown",
   "id": "ad063620-ba4b-40cf-a365-8bfba0bce650",
   "metadata": {},
   "source": [
    "### 5.2. `re.ASCII`: Limit to ASCII characters"
   ]
  },
  {
   "cell_type": "markdown",
   "id": "6d06b6f0-8448-4b5d-b52e-b8522a469aaf",
   "metadata": {},
   "source": [
    "#### 💠Matching ASCII characters only"
   ]
  },
  {
   "cell_type": "code",
   "execution_count": 32,
   "id": "52def953-eccb-4922-8d66-c5e8a9498dfa",
   "metadata": {},
   "outputs": [
    {
     "name": "stdout",
     "output_type": "stream",
     "text": [
      "ASCII words found: ['Hello']\n"
     ]
    }
   ],
   "source": [
    "text = \"Hello سلام\"\n",
    "\n",
    "# Using re.ASCII to match only English letters\n",
    "result = re.findall(r\"\\w+\", text, re.ASCII)\n",
    "\n",
    "print(\"ASCII words found:\", result)  # Output: ['Hello']"
   ]
  },
  {
   "cell_type": "markdown",
   "id": "b7c21840-836f-416f-8bc7-ef35f912dadf",
   "metadata": {},
   "source": [
    "## 6. Advanced Replacement Functions with `re.sub()`"
   ]
  },
  {
   "cell_type": "markdown",
   "id": "2a492589-eaf9-4912-bef2-71737fa583a5",
   "metadata": {},
   "source": [
    "#### 💠Capitalizing each word"
   ]
  },
  {
   "cell_type": "code",
   "execution_count": 35,
   "id": "9248214b-d2e5-4d67-90b7-dff1ba1751fb",
   "metadata": {},
   "outputs": [
    {
     "name": "stdout",
     "output_type": "stream",
     "text": [
      "Text after capitalization: HELLO WORLD\n"
     ]
    }
   ],
   "source": [
    "def replace_function(match):\n",
    "    return match.group(0).upper()\n",
    "\n",
    "# Using re.sub() with a function to capitalize words\n",
    "text = \"hello world\"\n",
    "result = re.sub(r'\\b\\w+\\b', replace_function, text)\n",
    "\n",
    "print(\"Text after capitalization:\", result)  # Output: HELLO WORLD"
   ]
  },
  {
   "cell_type": "markdown",
   "id": "5801861c-3193-43d0-ae57-5dc070cea485",
   "metadata": {},
   "source": [
    "## 7. Negative Expressions and Non-matching Groups"
   ]
  },
  {
   "cell_type": "markdown",
   "id": "8f267f24-79fa-4449-a7dc-d263ef2bad7b",
   "metadata": {},
   "source": [
    "<div style=\"background-color: #dafbe1; border-left: 5px solid #34c759; padding: 10px;\">\r\n",
    "Non-matching tools like <code>[^abc]</code> and <code>(?&lt;!...)</code> allow us to use patterns that exclude specific characters or groups.<br><br>\r\n",
    "- <code>[^abc]</code>: Matches any character except <code>a</code>, <code>b</code>, or <code>c</code>.<br>\r\n",
    "- <code>(?&lt;!...)</code>: Negative lookbehind, matching positions that are not preceded by the specified pattern.\r\n",
    "</iv>\r\n"
   ]
  },
  {
   "cell_type": "markdown",
   "id": "0a05103a-0e8d-4ae0-ae50-0c2998a7d6a5",
   "metadata": {},
   "source": [
    "### 7.1. `[^abc]`: Match any character except those listed"
   ]
  },
  {
   "cell_type": "code",
   "execution_count": 39,
   "id": "e40608ec-d4e8-4474-a6df-bec45a8efb1b",
   "metadata": {},
   "outputs": [
    {
     "name": "stdout",
     "output_type": "stream",
     "text": [
      "Non-vowel characters: ['T', 'h', 'q', 'c', 'k', 'b', 'r', 'w', 'n', 'f', 'x', '.']\n"
     ]
    }
   ],
   "source": [
    "text = \"The quick brown fox.\"\n",
    "\n",
    "# Using [^aeiou] to match non-vowel characters\n",
    "result = re.findall(r\"[^aeiou\\s]\", text)\n",
    "\n",
    "print(\"Non-vowel characters:\", result)"
   ]
  },
  {
   "cell_type": "markdown",
   "id": "b2b84ad5-d748-40a3-9d17-9db92aa01f62",
   "metadata": {},
   "source": [
    "### 7.2. (?!...) and (?<!...): Negative Lookahead and Lookbehind"
   ]
  },
  {
   "cell_type": "markdown",
   "id": "70a6d97d-e892-4f23-ae19-35423db9fedc",
   "metadata": {},
   "source": [
    "#### 💠Matching words not followed by \"ing\""
   ]
  },
  {
   "cell_type": "code",
   "execution_count": 42,
   "id": "59c7c85d-48f9-45a3-a866-a342f0c0ad5a",
   "metadata": {},
   "outputs": [
    {
     "name": "stdout",
     "output_type": "stream",
     "text": [
      "Words not followed by 'ing': ['I', 'am', 'running', 'jumping', 'and', 'swim']\n"
     ]
    }
   ],
   "source": [
    "text = \"I am running, jumping, and swim.\"\n",
    "\n",
    "# Using negative lookahead to avoid words ending with \"ing\"\n",
    "result = re.findall(r\"\\b\\w+\\b(?!ing\\b)\", text)\n",
    "\n",
    "print(\"Words not followed by 'ing':\", result)  # Output: ['I', 'am', 'and', 'swim']"
   ]
  },
  {
   "cell_type": "markdown",
   "id": "ef7f74c6-5d13-4e9d-853f-c67c30d9125c",
   "metadata": {},
   "source": [
    "## 8. Counting Matches with re.fullmatch()"
   ]
  },
  {
   "cell_type": "code",
   "execution_count": 44,
   "id": "0b5c13f7-24fe-4653-904f-b024c2e2122c",
   "metadata": {},
   "outputs": [
    {
     "name": "stdout",
     "output_type": "stream",
     "text": [
      "This is a valid date format.\n"
     ]
    }
   ],
   "source": [
    "text = \"2023-10-05\"\n",
    "\n",
    "# Using re.fullmatch() to check if text matches date format\n",
    "if re.fullmatch(r'\\d{4}-\\d{2}-\\d{2}', text):\n",
    "    print(\"This is a valid date format.\")  # Output: This is a valid date format.\n",
    "else:\n",
    "    print(\"Invalid date format.\")"
   ]
  },
  {
   "cell_type": "markdown",
   "id": "85f4a3ab-dfbf-4406-9e89-1634d3593022",
   "metadata": {},
   "source": [
    "## 9. Multi-line and Newline Matching with Inline Flags"
   ]
  },
  {
   "cell_type": "markdown",
   "id": "553f5ecc-e072-4ac3-9cf6-ec2a54c1df49",
   "metadata": {},
   "source": [
    "#### 💠Multi-line and dot-matching in a pattern"
   ]
  },
  {
   "cell_type": "code",
   "execution_count": 47,
   "id": "77b6b9ac-d22d-4990-91f3-67aeb3f4c13e",
   "metadata": {},
   "outputs": [
    {
     "name": "stdout",
     "output_type": "stream",
     "text": [
      "Lines found with inline flags: ['This is line one.\\nThis is line two.']\n"
     ]
    }
   ],
   "source": [
    "text = \"\"\"This is line one.\n",
    "This is line two.\"\"\"\n",
    "\n",
    "# Using inline flags to handle multi-line and dot-matching\n",
    "result = re.findall(r\"(?ms)^.*$\", text)\n",
    "\n",
    "print(\"Lines found with inline flags:\", result)  # Output: ['This is line one.', 'This is line two.']"
   ]
  },
  {
   "cell_type": "markdown",
   "id": "e5163909-402c-4f9f-887a-dd3fbd002b82",
   "metadata": {},
   "source": [
    "## 9. Ignoring Parts of the Pattern with In-line Comments"
   ]
  },
  {
   "cell_type": "markdown",
   "id": "14438617-7bcb-4b91-8067-8da1a0d6fbe7",
   "metadata": {},
   "source": [
    "#### 💠Adding comments inside a regex"
   ]
  },
  {
   "cell_type": "code",
   "execution_count": 50,
   "id": "42c3dff2-1be4-4c05-8346-34905ba00094",
   "metadata": {},
   "outputs": [
    {
     "name": "stdout",
     "output_type": "stream",
     "text": [
      "Matched number with comment: 15 \n"
     ]
    }
   ],
   "source": [
    "# Compiling pattern with comments for better understanding\n",
    "pattern = re.compile(r\"(\\d+) (?# This matches digits)\")\n",
    "\n",
    "text = \"There are 15 apples.\"\n",
    "\n",
    "# Using the pattern to find numbers\n",
    "result = pattern.search(text)\n",
    "\n",
    "print(\"Matched number with comment:\", result.group())  # Output: 15"
   ]
  },
  {
   "cell_type": "markdown",
   "id": "9e8ce49b-61c2-42da-a8e7-289181f9d5d8",
   "metadata": {},
   "source": [
    "## 11. Recursive and Nested Matching with Named Groups"
   ]
  },
  {
   "cell_type": "code",
   "execution_count": 52,
   "id": "eab2f064-dd84-4114-afcc-a745feab7fd5",
   "metadata": {},
   "outputs": [
    {
     "name": "stdout",
     "output_type": "stream",
     "text": [
      "Repeated word found: is is\n"
     ]
    }
   ],
   "source": [
    "# Compiling pattern with named group and backreference\n",
    "pattern = re.compile(r\"(?P<word>\\b\\w+\\b) (?P=word)\")\n",
    "\n",
    "text = \"This is is a test.\"\n",
    "\n",
    "# Using named group and backreference to find repeated words\n",
    "result = pattern.search(text)\n",
    "\n",
    "print(\"Repeated word found:\", result.group())  # Output: is is"
   ]
  }
 ],
 "metadata": {
  "kernelspec": {
   "display_name": "Python 3 (ipykernel)",
   "language": "python",
   "name": "python3"
  },
  "language_info": {
   "codemirror_mode": {
    "name": "ipython",
    "version": 3
   },
   "file_extension": ".py",
   "mimetype": "text/x-python",
   "name": "python",
   "nbconvert_exporter": "python",
   "pygments_lexer": "ipython3",
   "version": "3.11.7"
  }
 },
 "nbformat": 4,
 "nbformat_minor": 5
}
